{
 "cells": [
  {
   "cell_type": "code",
   "execution_count": 13,
   "id": "1e5e1196",
   "metadata": {},
   "outputs": [
    {
     "name": "stdout",
     "output_type": "stream",
     "text": [
      "enter first name: Maryam \n",
      "enter last name: Said\n",
      " mayraMdiaS\n"
     ]
    }
   ],
   "source": [
    "#Q1\n",
    "first = input(\"enter first name: \")\n",
    "Last = input(\"enter last name: \")\n",
    "new1 = first[::-1]\n",
    "new2 = Last[::-1]\n",
    "new3 = new1 + new2\n",
    "print(new3)"
   ]
  },
  {
   "cell_type": "code",
   "execution_count": 23,
   "id": "942513a1",
   "metadata": {},
   "outputs": [
    {
     "name": "stdout",
     "output_type": "stream",
     "text": [
      "Enter integer:5\n",
      "615\n"
     ]
    }
   ],
   "source": [
    "#Q2\n",
    "integer = int(input(\"Enter integer:\"))\n",
    "num1 = integer*1\n",
    "num2 = integer*11\n",
    "num3= integer*111\n",
    "print(num1 + num2 + num3)\n"
   ]
  },
  {
   "cell_type": "code",
   "execution_count": 19,
   "id": "7d6dfcce",
   "metadata": {},
   "outputs": [
    {
     "name": "stdout",
     "output_type": "stream",
     "text": [
      "enter integer: 2\n",
      "your number is even \n"
     ]
    }
   ],
   "source": [
    "#Q3\n",
    "num = int(input(\"enter integer: \"))\n",
    "if (num%2)==0:\n",
    "    print(\"your number is even \")\n",
    "else:\n",
    "    print(\"your number is odd\")"
   ]
  },
  {
   "cell_type": "code",
   "execution_count": 66,
   "id": "0b2b2762",
   "metadata": {},
   "outputs": [
    {
     "name": "stdout",
     "output_type": "stream",
     "text": [
      "2002 2009 2016 2023 2037 2044 2051 2058 2072 2079 2086 2093 2107 2114 2121 2128 2142 2149 2156 2163 2177 2184 2191 2198 2212 2219 2226 2233 2247 2254 2261 2268 2282 2289 2296 2303 2317 2324 2331 2338 2352 2359 2366 2373 2387 2394 2401 2408 2422 2429 2436 2443 2457 2464 2471 2478 2492 2499 2506 2513 2527 2534 2541 2548 2562 2569 2576 2583 2597 2604 2611 2618 2632 2639 2646 2653 2667 2674 2681 2688 2702 2709 2716 2723 2737 2744 2751 2758 2772 2779 2786 2793 2807 2814 2821 2828 2842 2849 2856 2863 2877 2884 2891 2898 2912 2919 2926 2933 2947 2954 2961 2968 2982 2989 2996 3003 3017 3024 3031 3038 3052 3059 3066 3073 3087 3094 3101 3108 3122 3129 3136 3143 3157 3164 3171 3178 3192 3199 "
     ]
    }
   ],
   "source": [
    "#Q4\n",
    "for i in range(2000,3201):\n",
    "    if (i%7)==0 and i%5!=0:\n",
    "        print(i, end=\" \")\n"
   ]
  },
  {
   "cell_type": "code",
   "execution_count": 43,
   "id": "0b03a3a4",
   "metadata": {},
   "outputs": [
    {
     "name": "stdout",
     "output_type": "stream",
     "text": [
      "enter a number: 8\n",
      "40320\n"
     ]
    }
   ],
   "source": [
    "#Q5\n",
    "num = int(input(\"enter a number: \"))\n",
    "x=1\n",
    "for i in range(1,num+1):\n",
    "    x*=i\n",
    "print(x)"
   ]
  },
  {
   "cell_type": "code",
   "execution_count": null,
   "id": "8c695552",
   "metadata": {},
   "outputs": [],
   "source": [
    "#Q6\n",
    "name = input(\"enter input: \")\n",
    "last = 0\n",
    "for i in range(len(name)):\n",
    "    if i%2==0:\n",
    "        \n",
    "\n",
    "\n",
    "\n",
    "\n",
    "    \n",
    "    \n"
   ]
  },
  {
   "cell_type": "code",
   "execution_count": 61,
   "id": "8b569e6d",
   "metadata": {},
   "outputs": [
    {
     "name": "stdout",
     "output_type": "stream",
     "text": [
      "enter a value: 50\n",
      "5.0\n"
     ]
    }
   ],
   "source": [
    "#Q7\n",
    "price = int(input(\"enter a value: \"))\n",
    "if price >= 500:\n",
    "    dis=price*50/100\n",
    "elif price>=200 and price<500:\n",
    "    dis=price*30/100\n",
    "else: \n",
    "    dis=price*10/100\n",
    "print(dis)\n",
    "            "
   ]
  },
  {
   "cell_type": "code",
   "execution_count": null,
   "id": "b915b443",
   "metadata": {},
   "outputs": [],
   "source": []
  },
  {
   "cell_type": "code",
   "execution_count": null,
   "id": "4db275aa",
   "metadata": {},
   "outputs": [],
   "source": []
  }
 ],
 "metadata": {
  "kernelspec": {
   "display_name": "Python 3 (ipykernel)",
   "language": "python",
   "name": "python3"
  },
  "language_info": {
   "codemirror_mode": {
    "name": "ipython",
    "version": 3
   },
   "file_extension": ".py",
   "mimetype": "text/x-python",
   "name": "python",
   "nbconvert_exporter": "python",
   "pygments_lexer": "ipython3",
   "version": "3.9.13"
  }
 },
 "nbformat": 4,
 "nbformat_minor": 5
}
